{
 "cells": [
  {
   "cell_type": "code",
   "execution_count": 46,
   "metadata": {},
   "outputs": [],
   "source": [
    "import os\n",
    "\n",
    "import pandas as pd\n",
    "import matplotlib as plt\n",
    "\n",
    "def get_data(folder):\n",
    "    \"\"\"\n",
    "    Reads in turnstile data from a specified folder in Data\n",
    "    \n",
    "    Input: turnstile data file i.e. 2016-2017_turnstile_data\n",
    "    Output: a DataFrame with all rows from all files in folder\n",
    "    \"\"\"\n",
    "    \n",
    "    col_names = ['C/A',\n",
    "                 'UNIT',\n",
    "                 'SCP',\n",
    "                 'STATION',\n",
    "                 'LINENAME',\n",
    "                 'DIVISION',\n",
    "                 'DATE',\n",
    "                 'TIME',\n",
    "                 'DESC',\n",
    "                 'ENTRIES',\n",
    "                 'EXITS                                                               ']\n",
    "\n",
    "    ## absolute path to Data folder\n",
    "    data_dir = os.getcwd()+\"/Data/\" \n",
    "    \n",
    "    return_df = pd.DataFrame(columns=col_names)\n",
    "    for file in os.listdir(data_dir+folder):\n",
    "        if not file.startswith('.'):\n",
    "            file_path = \"Data/\"+folder+'/'+file\n",
    "            return_df = pd.concat([return_df, pd.read_csv(file_path)],axis=0)\n",
    "            \n",
    "    return_df.rename(columns={return_df.columns[10]:'EXITS'},inplace=True)\n",
    "    \n",
    "    return(return_df)"
   ]
  },
  {
   "cell_type": "code",
   "execution_count": 47,
   "metadata": {},
   "outputs": [],
   "source": [
    "df = get_data(\"2016-2017_turnstile_data\")"
   ]
  },
  {
   "cell_type": "code",
   "execution_count": 48,
   "metadata": {},
   "outputs": [
    {
     "data": {
      "text/plain": [
       "(5085918, 11)"
      ]
     },
     "execution_count": 48,
     "metadata": {},
     "output_type": "execute_result"
    }
   ],
   "source": [
    "df.shape"
   ]
  },
  {
   "cell_type": "code",
   "execution_count": 8,
   "metadata": {},
   "outputs": [
    {
     "data": {
      "text/plain": [
       "C/A                                                                     0\n",
       "UNIT                                                                    0\n",
       "SCP                                                                     0\n",
       "STATION                                                                 0\n",
       "LINENAME                                                                0\n",
       "DIVISION                                                                0\n",
       "DATE                                                                    0\n",
       "TIME                                                                    0\n",
       "DESC                                                                    0\n",
       "ENTRIES                                                                 0\n",
       "EXITS                                                                   0\n",
       "dtype: int64"
      ]
     },
     "execution_count": 8,
     "metadata": {},
     "output_type": "execute_result"
    }
   ],
   "source": [
    "# No missing values\n",
    "df.isnull().sum()"
   ]
  }
 ],
 "metadata": {
  "kernelspec": {
   "display_name": "Python 3",
   "language": "python",
   "name": "python3"
  },
  "language_info": {
   "codemirror_mode": {
    "name": "ipython",
    "version": 3
   },
   "file_extension": ".py",
   "mimetype": "text/x-python",
   "name": "python",
   "nbconvert_exporter": "python",
   "pygments_lexer": "ipython3",
   "version": "3.7.3"
  }
 },
 "nbformat": 4,
 "nbformat_minor": 2
}
