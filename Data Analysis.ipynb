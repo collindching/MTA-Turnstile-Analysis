{
 "cells": [
  {
   "cell_type": "markdown",
   "metadata": {},
   "source": [
    "# Load data"
   ]
  },
  {
   "cell_type": "code",
   "execution_count": 52,
   "metadata": {},
   "outputs": [],
   "source": [
    "import os\n",
    "\n",
    "import pandas as pd\n",
    "import numpy as np\n",
    "import matplotlib as plt\n",
    "\n",
    "def get_data(folder):\n",
    "    \"\"\"\n",
    "    Reads in turnstile data from a specified folder in Data\n",
    "    \n",
    "    Input: turnstile data file i.e. 2016-2017_turnstile_data\n",
    "    Output: a DataFrame with all rows from all files in folder\n",
    "    \"\"\"\n",
    "    \n",
    "    col_names = ['C/A',\n",
    "                 'UNIT',\n",
    "                 'SCP',\n",
    "                 'STATION',\n",
    "                 'LINENAME',\n",
    "                 'DIVISION',\n",
    "                 'DATE',\n",
    "                 'TIME',\n",
    "                 'DESC',\n",
    "                 'ENTRIES',\n",
    "                 'EXITS                                                               ']\n",
    "\n",
    "    ## absolute path to Data folder\n",
    "    data_dir = os.getcwd()+\"/Data/\" \n",
    "    \n",
    "    return_df = pd.DataFrame(columns=col_names)\n",
    "    for file in os.listdir(data_dir+folder):\n",
    "        if not file.startswith('.'):\n",
    "            file_path = \"Data/\"+folder+'/'+file\n",
    "            return_df = pd.concat([return_df, pd.read_csv(file_path)],axis=0)\n",
    "            \n",
    "    return_df.rename(columns={return_df.columns[10]:'EXITS'},inplace=True)\n",
    "    \n",
    "    return(return_df)"
   ]
  },
  {
   "cell_type": "code",
   "execution_count": 53,
   "metadata": {},
   "outputs": [],
   "source": [
    "df = get_data(\"2016-2019_turnstile_data\")"
   ]
  },
  {
   "cell_type": "code",
   "execution_count": 54,
   "metadata": {},
   "outputs": [
    {
     "data": {
      "text/plain": [
       "381"
      ]
     },
     "execution_count": 54,
     "metadata": {},
     "output_type": "execute_result"
    }
   ],
   "source": [
    "df['STATION'].nunique()"
   ]
  },
  {
   "cell_type": "code",
   "execution_count": 55,
   "metadata": {},
   "outputs": [],
   "source": [
    "df['ENTRIES'] = df['ENTRIES'].astype(np.int)\n",
    "df['EXITS'] = df['EXITS'].astype(np.int)"
   ]
  },
  {
   "cell_type": "code",
   "execution_count": 56,
   "metadata": {},
   "outputs": [],
   "source": [
    "df.to_csv(\"2016-2019_turnstile_data.csv\")"
   ]
  },
  {
   "cell_type": "markdown",
   "metadata": {},
   "source": [
    "# Chronologically sort DataFrame"
   ]
  },
  {
   "cell_type": "code",
   "execution_count": null,
   "metadata": {},
   "outputs": [],
   "source": []
  },
  {
   "cell_type": "code",
   "execution_count": null,
   "metadata": {},
   "outputs": [],
   "source": []
  },
  {
   "cell_type": "code",
   "execution_count": null,
   "metadata": {},
   "outputs": [],
   "source": []
  },
  {
   "cell_type": "markdown",
   "metadata": {},
   "source": [
    "# Develop method to count turnstile"
   ]
  },
  {
   "cell_type": "code",
   "execution_count": 57,
   "metadata": {},
   "outputs": [],
   "source": [
    "sample_df = df[df['STATION'] == '59 ST']"
   ]
  },
  {
   "cell_type": "code",
   "execution_count": 63,
   "metadata": {},
   "outputs": [
    {
     "data": {
      "text/plain": [
       "Index(['C/A', 'UNIT', 'SCP', 'STATION', 'LINENAME', 'DIVISION', 'DATE', 'TIME',\n",
       "       'DESC', 'ENTRIES', 'EXITS'],\n",
       "      dtype='object')"
      ]
     },
     "execution_count": 63,
     "metadata": {},
     "output_type": "execute_result"
    }
   ],
   "source": [
    "sample_df.columns"
   ]
  },
  {
   "cell_type": "code",
   "execution_count": 65,
   "metadata": {},
   "outputs": [
    {
     "data": {
      "text/html": [
       "<div>\n",
       "<style scoped>\n",
       "    .dataframe tbody tr th:only-of-type {\n",
       "        vertical-align: middle;\n",
       "    }\n",
       "\n",
       "    .dataframe tbody tr th {\n",
       "        vertical-align: top;\n",
       "    }\n",
       "\n",
       "    .dataframe thead th {\n",
       "        text-align: right;\n",
       "    }\n",
       "</style>\n",
       "<table border=\"1\" class=\"dataframe\">\n",
       "  <thead>\n",
       "    <tr style=\"text-align: right;\">\n",
       "      <th></th>\n",
       "      <th>DATE</th>\n",
       "      <th>TIME</th>\n",
       "      <th>ENTRIES</th>\n",
       "    </tr>\n",
       "  </thead>\n",
       "  <tbody>\n",
       "    <tr>\n",
       "      <td>0</td>\n",
       "      <td>03/23/2019</td>\n",
       "      <td>00:00:00</td>\n",
       "      <td>6989774</td>\n",
       "    </tr>\n",
       "    <tr>\n",
       "      <td>1</td>\n",
       "      <td>03/23/2019</td>\n",
       "      <td>04:00:00</td>\n",
       "      <td>6989795</td>\n",
       "    </tr>\n",
       "    <tr>\n",
       "      <td>2</td>\n",
       "      <td>03/23/2019</td>\n",
       "      <td>08:00:00</td>\n",
       "      <td>6989813</td>\n",
       "    </tr>\n",
       "    <tr>\n",
       "      <td>3</td>\n",
       "      <td>03/23/2019</td>\n",
       "      <td>12:00:00</td>\n",
       "      <td>6989924</td>\n",
       "    </tr>\n",
       "    <tr>\n",
       "      <td>4</td>\n",
       "      <td>03/23/2019</td>\n",
       "      <td>16:00:00</td>\n",
       "      <td>6990200</td>\n",
       "    </tr>\n",
       "    <tr>\n",
       "      <td>...</td>\n",
       "      <td>...</td>\n",
       "      <td>...</td>\n",
       "      <td>...</td>\n",
       "    </tr>\n",
       "    <tr>\n",
       "      <td>157647</td>\n",
       "      <td>03/09/2018</td>\n",
       "      <td>11:00:00</td>\n",
       "      <td>232801</td>\n",
       "    </tr>\n",
       "    <tr>\n",
       "      <td>157648</td>\n",
       "      <td>03/09/2018</td>\n",
       "      <td>12:12:19</td>\n",
       "      <td>232807</td>\n",
       "    </tr>\n",
       "    <tr>\n",
       "      <td>157649</td>\n",
       "      <td>03/09/2018</td>\n",
       "      <td>15:00:00</td>\n",
       "      <td>232818</td>\n",
       "    </tr>\n",
       "    <tr>\n",
       "      <td>157650</td>\n",
       "      <td>03/09/2018</td>\n",
       "      <td>19:00:00</td>\n",
       "      <td>232889</td>\n",
       "    </tr>\n",
       "    <tr>\n",
       "      <td>157651</td>\n",
       "      <td>03/09/2018</td>\n",
       "      <td>23:00:00</td>\n",
       "      <td>232905</td>\n",
       "    </tr>\n",
       "  </tbody>\n",
       "</table>\n",
       "<p>115306 rows × 3 columns</p>\n",
       "</div>"
      ],
      "text/plain": [
       "              DATE      TIME  ENTRIES\n",
       "0       03/23/2019  00:00:00  6989774\n",
       "1       03/23/2019  04:00:00  6989795\n",
       "2       03/23/2019  08:00:00  6989813\n",
       "3       03/23/2019  12:00:00  6989924\n",
       "4       03/23/2019  16:00:00  6990200\n",
       "...            ...       ...      ...\n",
       "157647  03/09/2018  11:00:00   232801\n",
       "157648  03/09/2018  12:12:19   232807\n",
       "157649  03/09/2018  15:00:00   232818\n",
       "157650  03/09/2018  19:00:00   232889\n",
       "157651  03/09/2018  23:00:00   232905\n",
       "\n",
       "[115306 rows x 3 columns]"
      ]
     },
     "execution_count": 65,
     "metadata": {},
     "output_type": "execute_result"
    }
   ],
   "source": [
    "sample_df[['DATE','TIME','ENTRIES']]"
   ]
  },
  {
   "cell_type": "code",
   "execution_count": 75,
   "metadata": {},
   "outputs": [
    {
     "data": {
      "text/plain": [
       "0         6989774\n",
       "1         6989795\n",
       "2         6989813\n",
       "3         6989924\n",
       "4         6990200\n",
       "           ...   \n",
       "157647     232801\n",
       "157648     232807\n",
       "157649     232818\n",
       "157650     232889\n",
       "157651     232905\n",
       "Name: ENTRIES, Length: 115306, dtype: int64"
      ]
     },
     "execution_count": 75,
     "metadata": {},
     "output_type": "execute_result"
    }
   ],
   "source": [
    "sample_df['ENTRIES']"
   ]
  },
  {
   "cell_type": "code",
   "execution_count": 42,
   "metadata": {},
   "outputs": [
    {
     "data": {
      "text/plain": [
       "STATION\n",
       "59 ST    3.803133e+07\n",
       "Name: ENTRIES, dtype: float64"
      ]
     },
     "execution_count": 42,
     "metadata": {},
     "output_type": "execute_result"
    }
   ],
   "source": [
    "df.groupby(['STATION'])['ENTRIES'].mean()"
   ]
  },
  {
   "cell_type": "code",
   "execution_count": null,
   "metadata": {},
   "outputs": [],
   "source": [
    "df.shape"
   ]
  },
  {
   "cell_type": "code",
   "execution_count": 8,
   "metadata": {},
   "outputs": [
    {
     "data": {
      "text/plain": [
       "C/A                                                                     0\n",
       "UNIT                                                                    0\n",
       "SCP                                                                     0\n",
       "STATION                                                                 0\n",
       "LINENAME                                                                0\n",
       "DIVISION                                                                0\n",
       "DATE                                                                    0\n",
       "TIME                                                                    0\n",
       "DESC                                                                    0\n",
       "ENTRIES                                                                 0\n",
       "EXITS                                                                   0\n",
       "dtype: int64"
      ]
     },
     "execution_count": 8,
     "metadata": {},
     "output_type": "execute_result"
    }
   ],
   "source": [
    "# No missing values\n",
    "df.isnull().sum()"
   ]
  },
  {
   "cell_type": "code",
   "execution_count": 76,
   "metadata": {},
   "outputs": [
    {
     "data": {
      "text/plain": [
       "751"
      ]
     },
     "execution_count": 76,
     "metadata": {},
     "output_type": "execute_result"
    }
   ],
   "source": [
    "df['C/A'].nunique()"
   ]
  },
  {
   "cell_type": "markdown",
   "metadata": {},
   "source": [
    "## Reduce scope by plotting"
   ]
  }
 ],
 "metadata": {
  "kernelspec": {
   "display_name": "Python 3",
   "language": "python",
   "name": "python3"
  },
  "language_info": {
   "codemirror_mode": {
    "name": "ipython",
    "version": 3
   },
   "file_extension": ".py",
   "mimetype": "text/x-python",
   "name": "python",
   "nbconvert_exporter": "python",
   "pygments_lexer": "ipython3",
   "version": "3.7.4"
  }
 },
 "nbformat": 4,
 "nbformat_minor": 2
}
