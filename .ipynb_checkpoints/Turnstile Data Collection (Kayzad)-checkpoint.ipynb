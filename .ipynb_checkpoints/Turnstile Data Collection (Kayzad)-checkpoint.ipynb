{
 "cells": [
  {
   "cell_type": "markdown",
   "metadata": {},
   "source": [
    "## Determine URLs needed to extract Turnstile Data\n",
    "##### Date Range: \n",
    ">April to May (2016 to 2019)"
   ]
  },
  {
   "cell_type": "code",
   "execution_count": 9,
   "metadata": {},
   "outputs": [],
   "source": [
    "import datetime as dt"
   ]
  },
  {
   "cell_type": "code",
   "execution_count": 2,
   "metadata": {},
   "outputs": [],
   "source": [
    "url_prefix = 'http://web.mta.info/developers/data/nyct/turnstile/turnstile_'"
   ]
  },
  {
   "cell_type": "code",
   "execution_count": 17,
   "metadata": {},
   "outputs": [],
   "source": [
    "start_date_txt = '160402'\n",
    "date = dt.date(int(start_date[:2]), int(start_date[2:4]), int(start_date[4:]))"
   ]
  },
  {
   "cell_type": "code",
   "execution_count": 20,
   "metadata": {},
   "outputs": [],
   "source": [
    "date2 = date + dt.timedelta(days=7)"
   ]
  },
  {
   "cell_type": "code",
   "execution_count": 25,
   "metadata": {},
   "outputs": [
    {
     "data": {
      "text/plain": [
       "'160409'"
      ]
     },
     "execution_count": 25,
     "metadata": {},
     "output_type": "execute_result"
    }
   ],
   "source": [
    "str(date2)[2:4]+str(date2)[5:7]+str(date2)[8:]"
   ]
  },
  {
   "cell_type": "code",
   "execution_count": 74,
   "metadata": {},
   "outputs": [],
   "source": [
    "# Create list of dates (by week) from April to end of May 2016\n",
    "date_txt_2016 = '160402'\n",
    "date_2016 = dt.date(int(start_date[:2]), int(start_date[2:4]), int(start_date[4:]))\n",
    "\n",
    "date_list = [date_txt_2016]"
   ]
  },
  {
   "cell_type": "code",
   "execution_count": 75,
   "metadata": {},
   "outputs": [],
   "source": [
    "while date_2016 < dt.date(2016,6,1):\n",
    "    date_2016 += dt.timedelta(days=7)\n",
    "    date_list.append(str(date_2016)[2:4]+str(date_2016)[5:7]+str(date_2016)[8:])\n"
   ]
  },
  {
   "cell_type": "code",
   "execution_count": 77,
   "metadata": {},
   "outputs": [
    {
     "data": {
      "text/plain": [
       "datetime.date(2016, 6, 4)"
      ]
     },
     "execution_count": 77,
     "metadata": {},
     "output_type": "execute_result"
    }
   ],
   "source": [
    "date_2016"
   ]
  },
  {
   "cell_type": "code",
   "execution_count": null,
   "metadata": {},
   "outputs": [],
   "source": []
  },
  {
   "cell_type": "code",
   "execution_count": null,
   "metadata": {},
   "outputs": [],
   "source": []
  },
  {
   "cell_type": "markdown",
   "metadata": {},
   "source": [
    "## Data Frame to Summarize Turnstile Entries & Exits"
   ]
  },
  {
   "cell_type": "code",
   "execution_count": 2,
   "metadata": {},
   "outputs": [
    {
     "name": "stdout",
     "output_type": "stream",
     "text": [
      "/bin/sh: cwd: command not found\r\n"
     ]
    }
   ],
   "source": [
    "!cwd"
   ]
  },
  {
   "cell_type": "code",
   "execution_count": 2,
   "metadata": {},
   "outputs": [],
   "source": [
    "import os\n",
    "\n",
    "import pandas as pd\n",
    "import matplotlib as plt\n",
    "\n",
    "def get_data(folder):\n",
    "    \"\"\"\n",
    "    Reads in turnstile data from a specified folder in Data\n",
    "    \n",
    "    Input: turnstile data file i.e. 2016-2017_turnstile_data\n",
    "    Output: a DataFrame with all rows from all files in folder\n",
    "    \"\"\"\n",
    "    \n",
    "    col_names = ['C/A',\n",
    "                 'UNIT',\n",
    "                 'SCP',\n",
    "                 'STATION',\n",
    "                 'LINENAME',\n",
    "                 'DIVISION',\n",
    "                 'DATE',\n",
    "                 'TIME',\n",
    "                 'DESC',\n",
    "                 'ENTRIES',\n",
    "                 'EXITS                                                               ']\n",
    "\n",
    "    ## absolute path to Data folder\n",
    "    data_dir = os.getcwd()+\"/Data/\" \n",
    "    \n",
    "    return_df = pd.DataFrame(columns=col_names)\n",
    "    for file in os.listdir(data_dir+folder):\n",
    "        if not file.startswith('.'):\n",
    "            file_path = \"Data/\"+folder+'/'+file\n",
    "            return_df = pd.concat([return_df, pd.read_csv(file_path)],axis=0)\n",
    "            \n",
    "    return_df.rename(columns={return_df.columns[10]:'EXITS'},inplace=True)\n",
    "    \n",
    "    return(return_df)"
   ]
  },
  {
   "cell_type": "code",
   "execution_count": null,
   "metadata": {},
   "outputs": [],
   "source": [
    "df = get_data(\"2016-2017_turnstile_data\")"
   ]
  },
  {
   "cell_type": "code",
   "execution_count": null,
   "metadata": {},
   "outputs": [],
   "source": [
    "df.head()"
   ]
  }
 ],
 "metadata": {
  "kernelspec": {
   "display_name": "Python 3",
   "language": "python",
   "name": "python3"
  },
  "language_info": {
   "codemirror_mode": {
    "name": "ipython",
    "version": 3
   },
   "file_extension": ".py",
   "mimetype": "text/x-python",
   "name": "python",
   "nbconvert_exporter": "python",
   "pygments_lexer": "ipython3",
   "version": "3.7.4"
  }
 },
 "nbformat": 4,
 "nbformat_minor": 2
}
